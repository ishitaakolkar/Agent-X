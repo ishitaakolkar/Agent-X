{
  "nbformat": 4,
  "nbformat_minor": 0,
  "metadata": {
    "colab": {
      "provenance": [],
      "authorship_tag": "ABX9TyNMxEdg7W8Od1cQh68FRjK4",
      "include_colab_link": true
    },
    "kernelspec": {
      "name": "python3",
      "display_name": "Python 3"
    },
    "language_info": {
      "name": "python"
    }
  },
  "cells": [
    {
      "cell_type": "markdown",
      "metadata": {
        "id": "view-in-github",
        "colab_type": "text"
      },
      "source": [
        "<a href=\"https://colab.research.google.com/github/ishitaakolkar/Agent-X/blob/main/twitteragent_IBM.ipynb\" target=\"_parent\"><img src=\"https://colab.research.google.com/assets/colab-badge.svg\" alt=\"Open In Colab\"/></a>"
      ]
    },
    {
      "cell_type": "code",
      "execution_count": null,
      "metadata": {
        "id": "sD1SvoGS8TbE"
      },
      "outputs": [],
      "source": [
        "import google.generativeai as genai"
      ]
    },
    {
      "cell_type": "code",
      "source": [
        "genai.configure(api_key = API_KEY)"
      ],
      "metadata": {
        "id": "alzBppTdyUkd"
      },
      "execution_count": null,
      "outputs": []
    },
    {
      "cell_type": "code",
      "source": [
        "model = genai.GenerativeModel('models/gemini-1.5-flash')"
      ],
      "metadata": {
        "id": "N7XUMPHJybs3"
      },
      "execution_count": null,
      "outputs": []
    },
    {
      "cell_type": "code",
      "source": [
        "def tweet_generator(prompt_text):\n",
        "  tweet_prompt = (\n",
        "      f\"You are a very talented twitter handler, write a tweet (in 250 characters text)\"\n",
        "      f\"based on this prompt {prompt_text}\"\n",
        "      f\"keep it short creative and use hashtags\"\n",
        "  )\n",
        "\n",
        "  response = model.generate_content(tweet_prompt)\n",
        "  tweet = response.text.strip()\n",
        "\n",
        "  return tweet"
      ],
      "metadata": {
        "id": "Ff0IriAXykCu"
      },
      "execution_count": null,
      "outputs": []
    },
    {
      "cell_type": "code",
      "source": [
        "while True:\n",
        "  prompt = input(\"Enter the prompt for tweet: Exit for Quit\")\n",
        "  if prompt.lower() == \"exit\":\n",
        "    print(\"Exiting...\")\n",
        "    break\n",
        "\n",
        "  tweet = tweet_generator(prompt)\n",
        "  print(\"Generated tweet is: \", tweet, \"\\n\")"
      ],
      "metadata": {
        "colab": {
          "base_uri": "https://localhost:8080/",
          "height": 124
        },
        "id": "NCZV0g7hzjBu",
        "outputId": "f5b3c8de-0d6f-431c-89da-4ac879c0ed27"
      },
      "execution_count": null,
      "outputs": [
        {
          "output_type": "stream",
          "name": "stdout",
          "text": [
            "Enter the prompt for tweet: Exit for Quitwrite me a tweet for my bday\n",
            "Generated tweet is:  Another year older, another level unlocked! 🎉  Feeling grateful & ready for new adventures. Thanks for all the birthday wishes! ❤️ #BirthdayVibes #LevelUp #FeelingGrateful #BirthdayTweet \n",
            "\n",
            "Enter the prompt for tweet: Exit for Quitexit\n",
            "Exiting...\n"
          ]
        }
      ]
    }
  ]
}